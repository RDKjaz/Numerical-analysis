{
 "cells": [
  {
   "cell_type": "code",
   "execution_count": 1,
   "metadata": {},
   "outputs": [],
   "source": [
    "#Подключение необходимых библиотек\n",
    "from matplotlib import pyplot as plt\n",
    "import numpy as np\n",
    "import pandas as pd\n",
    "import matplotlib.pyplot as plt\n",
    "import seaborn as sns"
   ]
  },
  {
   "cell_type": "markdown",
   "metadata": {},
   "source": [
    "# 1 задание"
   ]
  },
  {
   "cell_type": "markdown",
   "metadata": {},
   "source": [
    "#### Вычисление функции ошибок"
   ]
  },
  {
   "cell_type": "code",
   "execution_count": 39,
   "metadata": {},
   "outputs": [],
   "source": [
    "#Вычисление q и функции ошибок в определённой точки\n",
    "def q(x, n):\n",
    "    return -1 * (2 * n + 1) * (x ** 2) / (n + 1) / (2 * n + 3)\n",
    "\n",
    "def erf(x, eps):\n",
    "    s = 0\n",
    "    n = 0\n",
    "    a = x\n",
    "    while np.absolute(a) >= eps:\n",
    "        s += a\n",
    "        a *= q(x, n)\n",
    "        n += 1\n",
    "    return s * 2 / np.sqrt(np.pi)\n",
    "\n",
    "#Вычисление функции ошибок на отрезке с равноудалёнными точками\n",
    "def ERF(x_list, eps):\n",
    "    res = []\n",
    "    for x in x_list:\n",
    "        res.append(erf(x, eps))\n",
    "    return np.array(res)\n",
    "\n",
    "#Cоздание значений точек отрезка\n",
    "a=0\n",
    "b=3\n",
    "number_of_steps=15\n",
    "eps = 0.000001\n",
    "step=(b-a)/number_of_steps\n",
    "X=[]\n",
    "for x in np.arange(a,b+step,step):   \n",
    "    X.append(round(x,2))\n",
    "\n",
    "Y = ERF(X, eps)"
   ]
  },
  {
   "cell_type": "markdown",
   "metadata": {},
   "source": [
    "Используем функцию ошибок на заданном отрезке. Lемонстрируем получившиеся значения и строим график функции ошибок"
   ]
  },
  {
   "cell_type": "code",
   "execution_count": 40,
   "metadata": {},
   "outputs": [
    {
     "name": "stdout",
     "output_type": "stream",
     "text": [
      "0.0  :  0.0\n",
      "0.2  :  0.2227029304401949\n",
      "0.4  :  0.428392390107679\n",
      "0.6  :  0.6038559401457361\n",
      "0.8  :  0.7421014550168195\n",
      "1.0  :  0.8427009429420883\n",
      "1.2  :  0.9103133702966624\n",
      "1.4  :  0.9522847480723241\n",
      "1.6  :  0.9763480639682842\n",
      "1.8  :  0.9890901343536931\n",
      "2.0  :  0.9953217200763728\n",
      "2.2  :  0.9981373782937999\n",
      "2.4  :  0.999312044850305\n",
      "2.6  :  0.9997635470749018\n",
      "2.8  :  0.9999254026722089\n",
      "3.0  :  0.9999773727814576\n"
     ]
    },
    {
     "data": {
      "image/png": "[encoded data removed]",
      "text/plain": [
       "<Figure size 432x288 with 1 Axes>"
      ]
     },
     "metadata": {
      "needs_background": "light"
     },
     "output_type": "display_data"
    }
   ],
   "source": [
    "for i in range(0,len(X)):\n",
    "    print(X[i],' : ',Y[i])\n",
    "\n",
    "\n",
    "sns.lineplot(x=X, y=Y, color=\"g\", label = \"f(x)=erf(x)\")\n",
    "plt.legend()\n",
    "plt.grid(True)"
   ]
  },
  {
   "cell_type": "markdown",
   "metadata": {},
   "source": [
    "# 2 задание\n",
    "### Построение интерполяционного полинома"
   ]
  },
  {
   "cell_type": "markdown",
   "metadata": {},
   "source": [
    "Создание списка для интерполяции"
   ]
  },
  {
   "cell_type": "code",
   "execution_count": null,
   "metadata": {},
   "outputs": [],
   "source": [
    "def ipl(x, nodes, eps):\n",
    "    l = 0\n",
    "    for xi in nodes:\n",
    "        li = 1\n",
    "        for xj in nodes:\n",
    "            if xj != xi:\n",
    "                li *= (x - xj) / (xi - xj)\n",
    "        l += erf(xi, eps) * li\n",
    "    return l\n",
    "\n",
    "def IPL(x_list, nodes, eps):\n",
    "    res = []\n",
    "    for xi in x_list:\n",
    "        res.append(ipl(xi, nodes, eps))\n",
    "    return np.array(res)\n",
    "\n",
    "#Создаем точки для интерполирования\n",
    "n_ipl=30\n",
    "step=(b-a)/n_ipl\n",
    "x_ipl=[]\n",
    "for x in np.arange(a,b+step,step):   \n",
    "    x_ipl.append(round(x,3))\n",
    "\n",
    "#Вычисление значения полинома Лагранжа в конкретной точке\n",
    "y_ipl = IPL(x_ipl, X, eps)\n",
    "\n",
    "def make_list(n, n_ipl):\n",
    "    step=(b-a)/n\n",
    "    X_plot=[]\n",
    "    for x in np.arange(a,b+step,step):   \n",
    "        X_plot.append(round(x,5))\n",
    "    step_ipl=(b-a)/n_ipl\n",
    "    x_plot=[]\n",
    "    for x in np.arange(a,b+step_ipl,step_ipl):   \n",
    "        x_plot.append(round(x,5))\n",
    "#     print(X_plot)\n",
    "#     print(x_plot)\n",
    "    return X_plot, x_plot    \n",
    "\n",
    "#Стоим график, отображающий размер погрешности\n",
    "\n",
    "def plot(n, n_ipl):\n",
    "    X_plot, x_plot = make_list(n, n_ipl)  \n",
    "#     print(X_plot)\n",
    "#     print(x_plot)\n",
    "    sns.lineplot(x=x_plot, y=abs(ERF(x_plot,eps) - IPL(x_plot, X_plot, eps)),color = \"g\")\n",
    "    plt.grid(True)"
   ]
  },
  {
   "cell_type": "markdown",
   "metadata": {},
   "source": [
    "Проверяем основное свойство интерполяционного полинома: функция $L_n (x_i)$ должна совпадать с заданной $F(x_i)$ в некотором наборе точек\n",
    "${x_i , i=(1,n)}$ из отрезка $[a,b]$.\n"
   ]
  },
  {
   "cell_type": "code",
   "execution_count": null,
   "metadata": {},
   "outputs": [],
   "source": [
    "d1 = {\"x\":x_ipl,\"Erf(x)\":ERF(x_ipl,eps),\"IPLagr(x)\":IPL(x_ipl, X, eps),\n",
    "     \"Погрешность в узлах интерполяции\":np.abs(ERF(x_ipl,eps)-IPL(x_ipl, X, eps))}\n",
    "df1 = pd.DataFrame(d1)\n",
    "df1\n"
   ]
  },
  {
   "cell_type": "markdown",
   "metadata": {},
   "source": [
    "Как мы видим, погрешность в узлах осталась прежней, однако значения между ними имеют погрешность. Убедившись в правильности вычисления интерполяционного полинома в форме Лагранжа.\n",
    "Заметим, что на концах отрезка погрешность больше, чем посередине, изучим данную особенность более внимательно."
   ]
  },
  {
   "cell_type": "markdown",
   "metadata": {},
   "source": [
    "Стоим график, отображающий размер погрешности по таблице выше"
   ]
  },
  {
   "cell_type": "code",
   "execution_count": null,
   "metadata": {
    "scrolled": true
   },
   "outputs": [],
   "source": [
    "plot(15,31)"
   ]
  },
  {
   "cell_type": "markdown",
   "metadata": {},
   "source": [
    "Строим графики, чтобы усмотреть закономерность"
   ]
  },
  {
   "cell_type": "code",
   "execution_count": null,
   "metadata": {},
   "outputs": [],
   "source": [
    "plot(6,31)"
   ]
  },
  {
   "cell_type": "code",
   "execution_count": null,
   "metadata": {},
   "outputs": [],
   "source": [
    "plot(12,31)"
   ]
  },
  {
   "cell_type": "code",
   "execution_count": null,
   "metadata": {},
   "outputs": [],
   "source": [
    "plot(25,31)"
   ]
  },
  {
   "cell_type": "markdown",
   "metadata": {},
   "source": [
    "При совпадении узлов интерполяции и точек все должно быть = 0"
   ]
  },
  {
   "cell_type": "code",
   "execution_count": null,
   "metadata": {},
   "outputs": [],
   "source": [
    "plot(31,31)"
   ]
  },
  {
   "cell_type": "code",
   "execution_count": null,
   "metadata": {},
   "outputs": [],
   "source": [
    "plot(36,31)"
   ]
  },
  {
   "cell_type": "markdown",
   "metadata": {},
   "source": [
    "Абсолютная погрешность принимает целые значения начиная с 37."
   ]
  },
  {
   "cell_type": "code",
   "execution_count": null,
   "metadata": {},
   "outputs": [],
   "source": [
    "plot(40,31)"
   ]
  },
  {
   "cell_type": "markdown",
   "metadata": {},
   "source": [
    "Находим максимальную погрешность при заданных значениях"
   ]
  },
  {
   "cell_type": "code",
   "execution_count": null,
   "metadata": {},
   "outputs": [],
   "source": [
    "def maximum(n, n_ipl):\n",
    "    X_plot, x_plot = make_list(n, n_ipl) \n",
    "    return max(abs(ERF(x_plot,eps)-IPL(x_plot, X_plot, eps)))\n",
    "\n",
    "max_error_list = []\n",
    "for n in range(2,38):\n",
    "    max_error_list.append(maximum(n, 31))\n",
    "sns.lineplot(x=range(2,38), y=max_error_list, color = \"g\")\n",
    "plt.title(\"График максимальной погрешности\")\n",
    "plt.axis([5, 40, 0, 2])\n",
    "plt.grid(True)"
   ]
  },
  {
   "cell_type": "markdown",
   "metadata": {},
   "source": [
    "С увеличением числа равномерно отстоящих узлов интерполяции увеличивается точность вычисления полинома, но только до определенного момента, после которого точность начинает резко падать.  \n",
    "Вблизи концов рассматриваемого отрезка погрешность резко увеличивается, а в середине отрезка погрешность придерживается минимальных значений."
   ]
  },
  {
   "cell_type": "markdown",
   "metadata": {},
   "source": [
    "# 2.1 задание \n",
    "### Минимизация погрешности интерполяции\n",
    "### Интерполяционный полином с узлами-корнями полинома Чебышева\n"
   ]
  },
  {
   "cell_type": "markdown",
   "metadata": {},
   "source": [
    "Считаем корни Чебышева"
   ]
  },
  {
   "cell_type": "code",
   "execution_count": null,
   "metadata": {},
   "outputs": [],
   "source": [
    "def PChNode(a,b,n):\n",
    "    result_list = []\n",
    "    for i in reversed(range(0,n+1)):\n",
    "        result_list.append((a+b)/2 + (b-a)/2 * np.cos((2 * i + 1) * np.pi / 2 / (n + 1)))\n",
    "    return result_list"
   ]
  },
  {
   "cell_type": "code",
   "execution_count": null,
   "metadata": {},
   "outputs": [],
   "source": [
    "PChNode(a,b,4)"
   ]
  },
  {
   "cell_type": "code",
   "execution_count": null,
   "metadata": {},
   "outputs": [],
   "source": [
    "def make_list_CH(n, n_ipl):\n",
    "    x_plot=[]\n",
    "    step=(b-a)/n_ipl\n",
    "    for x in np.arange(a,b+step,step):   \n",
    "        x_plot.append(round(x,10))\n",
    "    X_plot = PChNode(a,b,n)\n",
    "    return X_plot, x_plot\n",
    "\n",
    "def plot_CH(n, n_ipl):\n",
    "    X_plot, x_plot = make_list_CH(n, n_ipl)  \n",
    "    sns.lineplot(x=x_plot, y=abs(ERF(x_plot,eps) - IPL(x_plot, X_plot, eps)), color = 'g')\n",
    "    plt.grid(True)"
   ]
  },
  {
   "cell_type": "code",
   "execution_count": null,
   "metadata": {},
   "outputs": [],
   "source": [
    "plot_CH(25,31)"
   ]
  },
  {
   "cell_type": "code",
   "execution_count": null,
   "metadata": {},
   "outputs": [],
   "source": [
    "plot_CH(705,21)"
   ]
  },
  {
   "cell_type": "markdown",
   "metadata": {},
   "source": [
    "Смитаем максимальное значение погрешности при использовании корней Чебышева"
   ]
  },
  {
   "cell_type": "code",
   "execution_count": null,
   "metadata": {},
   "outputs": [],
   "source": [
    "def maximum_CH(n, n_ipl):\n",
    "    X_plot, x_plot = make_list_CH(n, n_ipl)  \n",
    "    return max(abs(ERF(x_plot,eps)-IPL(x_plot, X_plot, eps)))\n",
    "\n",
    "max_error_list_Cheb = []\n",
    "for n in range(5,100):\n",
    "    max_error_list_Cheb.append(maximum_CH(n, 20))\n",
    "sns.lineplot(x=range(5,100), y=max_error_list_Cheb, color = \"g\")\n",
    "plt.grid(True)"
   ]
  },
  {
   "cell_type": "markdown",
   "metadata": {},
   "source": [
    "# 3 Задание\n",
    "### Приближённое вычисление интегралов"
   ]
  },
  {
   "cell_type": "markdown",
   "metadata": {},
   "source": [
    "В данном задании нужно вычислить интеграл $$erf(x) = \\frac{2}{\\sqrt\\pi} \\int\\limits_0^x e^{-t^2}\\,dt$$ с помощью основных квадратурных формул Ньютона – Котеса."
   ]
  },
  {
   "cell_type": "markdown",
   "metadata": {},
   "source": [
    "Зададим функцию, вычисляющюю значение подынтегрального выражения:"
   ]
  },
  {
   "cell_type": "code",
   "execution_count": 2,
   "metadata": {},
   "outputs": [],
   "source": [
    "def fi(t):\n",
    "    return np.e ** -(t ** 2)"
   ]
  },
  {
   "cell_type": "markdown",
   "metadata": {},
   "source": [
    "#### Формула левых прямоугольников"
   ]
  },
  {
   "cell_type": "code",
   "execution_count": 3,
   "metadata": {},
   "outputs": [],
   "source": [
    "def left(x, eps):\n",
    "    n = 1\n",
    "    s0 = 0\n",
    "    s1 = x * fi(0)\n",
    "    while np.absolute(s1 - s0) >= eps:\n",
    "        n *= 2\n",
    "        s0 = s1\n",
    "        s1 = 0\n",
    "        z = 0\n",
    "        h = x / n\n",
    "        for i in range(n):\n",
    "            s1 += h * fi(z)\n",
    "            z += h\n",
    "    return s0 * 2 / np.sqrt(np.pi), n"
   ]
  },
  {
   "cell_type": "code",
   "execution_count": 4,
   "metadata": {},
   "outputs": [
    {
     "name": "stdout",
     "output_type": "stream",
     "text": [
      "Значение интеграла и количество итераций:  (1.0131994327592089, 256)\n"
     ]
    }
   ],
   "source": [
    "print(\"Значение интеграла и количество итераций: \", left(3,0.01))"
   ]
  },
  {
   "cell_type": "markdown",
   "metadata": {},
   "source": [
    "#### Формула правых прямоугольников"
   ]
  },
  {
   "cell_type": "code",
   "execution_count": 5,
   "metadata": {},
   "outputs": [],
   "source": [
    "def right(x, eps):\n",
    "    n = 1\n",
    "    s0 = 0\n",
    "    s1 = x * fi(0)\n",
    "    while np.absolute(s1 - s0) >= eps:\n",
    "        n *= 2\n",
    "        s0 = s1\n",
    "        s1 = 0\n",
    "        h = x / n\n",
    "        z=h\n",
    "        for i in range(1,n+1):\n",
    "            s1 += h * fi(z)\n",
    "            z += h\n",
    "    return s0 * 2 / np.sqrt(np.pi), n"
   ]
  },
  {
   "cell_type": "code",
   "execution_count": 6,
   "metadata": {},
   "outputs": [
    {
     "name": "stdout",
     "output_type": "stream",
     "text": [
      "Значение интеграла и количество итераций:  (0.9867563097738128, 256)\n"
     ]
    }
   ],
   "source": [
    "print(\"Значение интеграла и количество итераций: \", right(3,0.01))"
   ]
  },
  {
   "cell_type": "markdown",
   "metadata": {},
   "source": [
    "#### Формула центральных прямоугольников"
   ]
  },
  {
   "cell_type": "code",
   "execution_count": 7,
   "metadata": {},
   "outputs": [],
   "source": [
    "def center(x, eps):\n",
    "    n = 1\n",
    "    s0 = 0\n",
    "    s1 = x * fi(x / 2)\n",
    "    while np.absolute(s1 - s0) >= eps:\n",
    "        n *= 2\n",
    "        s0 = s1\n",
    "        s1 = 0\n",
    "        z = 0\n",
    "        h = x / n\n",
    "        for i in range(n):\n",
    "            s1 += h * fi(z + h / 2)\n",
    "            z += h\n",
    "    return s0 * 2 / np.sqrt(np.pi),n"
   ]
  },
  {
   "cell_type": "code",
   "execution_count": 8,
   "metadata": {},
   "outputs": [
    {
     "name": "stdout",
     "output_type": "stream",
     "text": [
      "Значение интеграла и количество итераций:  (0.999990353697582, 8)\n"
     ]
    }
   ],
   "source": [
    "print(\"Значение интеграла и количество итераций: \", center(3,0.01))"
   ]
  },
  {
   "cell_type": "markdown",
   "metadata": {},
   "source": [
    "#### Формула трапеций"
   ]
  },
  {
   "cell_type": "code",
   "execution_count": 9,
   "metadata": {},
   "outputs": [],
   "source": [
    "def trap(x, eps):\n",
    "    n = 1\n",
    "    s0 = 0\n",
    "    s1 = x * (fi(0) + fi(x)) / 2\n",
    "    while np.absolute(s1 - s0) >= eps:\n",
    "        n *= 2\n",
    "        s0 = s1\n",
    "        s1 = 0\n",
    "        z = 0\n",
    "        h = x / n\n",
    "        for i in range(n):\n",
    "            s1 += h * (fi(z) + fi(z + h)) / 2\n",
    "            z += h\n",
    "    return s0 * 2 / np.sqrt(np.pi), n"
   ]
  },
  {
   "cell_type": "code",
   "execution_count": 10,
   "metadata": {},
   "outputs": [
    {
     "name": "stdout",
     "output_type": "stream",
     "text": [
      "Значение интеграла и количество итераций:  (0.9999471656359384, 8)\n"
     ]
    }
   ],
   "source": [
    "print(\"Значение интеграла и количество итераций: \", trap(3,0.01))"
   ]
  },
  {
   "cell_type": "markdown",
   "metadata": {},
   "source": [
    "#### Формула Симпсона"
   ]
  },
  {
   "cell_type": "code",
   "execution_count": 41,
   "metadata": {},
   "outputs": [],
   "source": [
    "def simpson(x, eps):\n",
    "    n = 1\n",
    "    s0 = 0\n",
    "    s1 = x * (fi(0) + 4 *fi(x / 2) + fi(x)) / 6\n",
    "    while np.absolute(s1 - s0) >= eps:\n",
    "        n *= 2\n",
    "        s0 = s1\n",
    "        s1 = 0\n",
    "        z = 0\n",
    "        h = x / n\n",
    "        for i in range(n):\n",
    "            s1 += h * (fi(z) + 4 * fi(z + h / 2) + fi(z + h)) / 6\n",
    "            z += h\n",
    "    return s0 * 2 / np.sqrt(np.pi), n\n"
   ]
  },
  {
   "cell_type": "code",
   "execution_count": 12,
   "metadata": {},
   "outputs": [
    {
     "name": "stdout",
     "output_type": "stream",
     "text": [
      "Значение интеграла и количество итераций:  (0.9916681378659049, 4)\n"
     ]
    }
   ],
   "source": [
    "print(\"Значение интеграла и количество итераций: \", simpson(3,0.01))"
   ]
  },
  {
   "cell_type": "markdown",
   "metadata": {},
   "source": [
    "Графики отображающие зависимость требуемого количества разбиений для вычисления интеграла с точностью $eps$ от выбранных точек x"
   ]
  },
  {
   "cell_type": "code",
   "execution_count": 13,
   "metadata": {},
   "outputs": [
    {
     "data": {
      "text/html": [
       "<div>\n",
       "<style scoped>\n",
       "    .dataframe tbody tr th:only-of-type {\n",
       "        vertical-align: middle;\n",
       "    }\n",
       "\n",
       "    .dataframe tbody tr th {\n",
       "        vertical-align: top;\n",
       "    }\n",
       "\n",
       "    .dataframe thead th {\n",
       "        text-align: right;\n",
       "    }\n",
       "</style>\n",
       "<table border=\"1\" class=\"dataframe\">\n",
       "  <thead>\n",
       "    <tr style=\"text-align: right;\">\n",
       "      <th></th>\n",
       "      <th>Знач.Прав.прямоуг</th>\n",
       "      <th>Кол-во разбиений пп</th>\n",
       "      <th>Знач.Лев.прямоуг</th>\n",
       "      <th>Кол-во разбиений лп</th>\n",
       "      <th>Знач.Центр.прямоуг</th>\n",
       "      <th>Кол-во разбиений цп</th>\n",
       "      <th>Знач. Трапец.</th>\n",
       "      <th>Кол-во разбиений тр</th>\n",
       "      <th>Знач. Симпсона</th>\n",
       "      <th>Кол-во разбиений с</th>\n",
       "    </tr>\n",
       "  </thead>\n",
       "  <tbody>\n",
       "    <tr>\n",
       "      <th>0.0</th>\n",
       "      <td>0.000000</td>\n",
       "      <td>1</td>\n",
       "      <td>0.000000</td>\n",
       "      <td>1</td>\n",
       "      <td>0.000000</td>\n",
       "      <td>1</td>\n",
       "      <td>0.000000</td>\n",
       "      <td>1</td>\n",
       "      <td>0.000000</td>\n",
       "      <td>1</td>\n",
       "    </tr>\n",
       "    <tr>\n",
       "      <th>0.2</th>\n",
       "      <td>0.222685</td>\n",
       "      <td>512</td>\n",
       "      <td>0.222720</td>\n",
       "      <td>512</td>\n",
       "      <td>0.222714</td>\n",
       "      <td>16</td>\n",
       "      <td>0.222697</td>\n",
       "      <td>32</td>\n",
       "      <td>0.222704</td>\n",
       "      <td>2</td>\n",
       "    </tr>\n",
       "    <tr>\n",
       "      <th>0.4</th>\n",
       "      <td>0.428376</td>\n",
       "      <td>4096</td>\n",
       "      <td>0.428409</td>\n",
       "      <td>4096</td>\n",
       "      <td>0.428397</td>\n",
       "      <td>64</td>\n",
       "      <td>0.428382</td>\n",
       "      <td>64</td>\n",
       "      <td>0.428395</td>\n",
       "      <td>4</td>\n",
       "    </tr>\n",
       "    <tr>\n",
       "      <th>0.6</th>\n",
       "      <td>0.603844</td>\n",
       "      <td>16384</td>\n",
       "      <td>0.603869</td>\n",
       "      <td>16384</td>\n",
       "      <td>0.603870</td>\n",
       "      <td>64</td>\n",
       "      <td>0.603849</td>\n",
       "      <td>128</td>\n",
       "      <td>0.603857</td>\n",
       "      <td>8</td>\n",
       "    </tr>\n",
       "    <tr>\n",
       "      <th>0.8</th>\n",
       "      <td>0.742088</td>\n",
       "      <td>32768</td>\n",
       "      <td>0.742114</td>\n",
       "      <td>32768</td>\n",
       "      <td>0.742107</td>\n",
       "      <td>128</td>\n",
       "      <td>0.742089</td>\n",
       "      <td>128</td>\n",
       "      <td>0.742103</td>\n",
       "      <td>8</td>\n",
       "    </tr>\n",
       "    <tr>\n",
       "      <th>1.0</th>\n",
       "      <td>0.842679</td>\n",
       "      <td>32768</td>\n",
       "      <td>0.842723</td>\n",
       "      <td>32768</td>\n",
       "      <td>0.842709</td>\n",
       "      <td>128</td>\n",
       "      <td>0.842697</td>\n",
       "      <td>256</td>\n",
       "      <td>0.842703</td>\n",
       "      <td>8</td>\n",
       "    </tr>\n",
       "    <tr>\n",
       "      <th>1.2</th>\n",
       "      <td>0.910298</td>\n",
       "      <td>65536</td>\n",
       "      <td>0.910330</td>\n",
       "      <td>65536</td>\n",
       "      <td>0.910323</td>\n",
       "      <td>128</td>\n",
       "      <td>0.910309</td>\n",
       "      <td>256</td>\n",
       "      <td>0.910313</td>\n",
       "      <td>4</td>\n",
       "    </tr>\n",
       "    <tr>\n",
       "      <th>1.4</th>\n",
       "      <td>0.952264</td>\n",
       "      <td>65536</td>\n",
       "      <td>0.952306</td>\n",
       "      <td>65536</td>\n",
       "      <td>0.952294</td>\n",
       "      <td>128</td>\n",
       "      <td>0.952281</td>\n",
       "      <td>256</td>\n",
       "      <td>0.952281</td>\n",
       "      <td>8</td>\n",
       "    </tr>\n",
       "    <tr>\n",
       "      <th>1.6</th>\n",
       "      <td>0.976336</td>\n",
       "      <td>131072</td>\n",
       "      <td>0.976361</td>\n",
       "      <td>131072</td>\n",
       "      <td>0.976356</td>\n",
       "      <td>128</td>\n",
       "      <td>0.976334</td>\n",
       "      <td>128</td>\n",
       "      <td>0.976337</td>\n",
       "      <td>8</td>\n",
       "    </tr>\n",
       "    <tr>\n",
       "      <th>1.8</th>\n",
       "      <td>0.989076</td>\n",
       "      <td>131072</td>\n",
       "      <td>0.989105</td>\n",
       "      <td>131072</td>\n",
       "      <td>0.989096</td>\n",
       "      <td>128</td>\n",
       "      <td>0.989080</td>\n",
       "      <td>128</td>\n",
       "      <td>0.989090</td>\n",
       "      <td>16</td>\n",
       "    </tr>\n",
       "    <tr>\n",
       "      <th>2.0</th>\n",
       "      <td>0.995305</td>\n",
       "      <td>131072</td>\n",
       "      <td>0.995339</td>\n",
       "      <td>131072</td>\n",
       "      <td>0.995336</td>\n",
       "      <td>64</td>\n",
       "      <td>0.995316</td>\n",
       "      <td>128</td>\n",
       "      <td>0.995321</td>\n",
       "      <td>16</td>\n",
       "    </tr>\n",
       "    <tr>\n",
       "      <th>2.2</th>\n",
       "      <td>0.998118</td>\n",
       "      <td>131072</td>\n",
       "      <td>0.998156</td>\n",
       "      <td>131072</td>\n",
       "      <td>0.998145</td>\n",
       "      <td>64</td>\n",
       "      <td>0.998133</td>\n",
       "      <td>128</td>\n",
       "      <td>0.998136</td>\n",
       "      <td>16</td>\n",
       "    </tr>\n",
       "    <tr>\n",
       "      <th>2.4</th>\n",
       "      <td>0.999291</td>\n",
       "      <td>131072</td>\n",
       "      <td>0.999332</td>\n",
       "      <td>131072</td>\n",
       "      <td>0.999315</td>\n",
       "      <td>64</td>\n",
       "      <td>0.999303</td>\n",
       "      <td>64</td>\n",
       "      <td>0.999300</td>\n",
       "      <td>8</td>\n",
       "    </tr>\n",
       "    <tr>\n",
       "      <th>2.6</th>\n",
       "      <td>0.999742</td>\n",
       "      <td>131072</td>\n",
       "      <td>0.999786</td>\n",
       "      <td>131072</td>\n",
       "      <td>0.999771</td>\n",
       "      <td>32</td>\n",
       "      <td>0.999749</td>\n",
       "      <td>32</td>\n",
       "      <td>0.999756</td>\n",
       "      <td>8</td>\n",
       "    </tr>\n",
       "    <tr>\n",
       "      <th>2.8</th>\n",
       "      <td>0.999913</td>\n",
       "      <td>262144</td>\n",
       "      <td>0.999937</td>\n",
       "      <td>262144</td>\n",
       "      <td>0.999937</td>\n",
       "      <td>16</td>\n",
       "      <td>0.999919</td>\n",
       "      <td>32</td>\n",
       "      <td>0.999921</td>\n",
       "      <td>8</td>\n",
       "    </tr>\n",
       "    <tr>\n",
       "      <th>3.0</th>\n",
       "      <td>0.999965</td>\n",
       "      <td>262144</td>\n",
       "      <td>0.999991</td>\n",
       "      <td>262144</td>\n",
       "      <td>0.999990</td>\n",
       "      <td>8</td>\n",
       "      <td>0.999969</td>\n",
       "      <td>16</td>\n",
       "      <td>0.999976</td>\n",
       "      <td>8</td>\n",
       "    </tr>\n",
       "  </tbody>\n",
       "</table>\n",
       "</div>"
      ],
      "text/plain": [
       "     Знач.Прав.прямоуг  Кол-во разбиений пп  Знач.Лев.прямоуг  \\\n",
       "0.0           0.000000                    1          0.000000   \n",
       "0.2           0.222685                  512          0.222720   \n",
       "0.4           0.428376                 4096          0.428409   \n",
       "0.6           0.603844                16384          0.603869   \n",
       "0.8           0.742088                32768          0.742114   \n",
       "1.0           0.842679                32768          0.842723   \n",
       "1.2           0.910298                65536          0.910330   \n",
       "1.4           0.952264                65536          0.952306   \n",
       "1.6           0.976336               131072          0.976361   \n",
       "1.8           0.989076               131072          0.989105   \n",
       "2.0           0.995305               131072          0.995339   \n",
       "2.2           0.998118               131072          0.998156   \n",
       "2.4           0.999291               131072          0.999332   \n",
       "2.6           0.999742               131072          0.999786   \n",
       "2.8           0.999913               262144          0.999937   \n",
       "3.0           0.999965               262144          0.999991   \n",
       "\n",
       "     Кол-во разбиений лп  Знач.Центр.прямоуг  Кол-во разбиений цп  \\\n",
       "0.0                    1            0.000000                    1   \n",
       "0.2                  512            0.222714                   16   \n",
       "0.4                 4096            0.428397                   64   \n",
       "0.6                16384            0.603870                   64   \n",
       "0.8                32768            0.742107                  128   \n",
       "1.0                32768            0.842709                  128   \n",
       "1.2                65536            0.910323                  128   \n",
       "1.4                65536            0.952294                  128   \n",
       "1.6               131072            0.976356                  128   \n",
       "1.8               131072            0.989096                  128   \n",
       "2.0               131072            0.995336                   64   \n",
       "2.2               131072            0.998145                   64   \n",
       "2.4               131072            0.999315                   64   \n",
       "2.6               131072            0.999771                   32   \n",
       "2.8               262144            0.999937                   16   \n",
       "3.0               262144            0.999990                    8   \n",
       "\n",
       "     Знач. Трапец.  Кол-во разбиений тр  Знач. Симпсона  Кол-во разбиений с  \n",
       "0.0       0.000000                    1        0.000000                   1  \n",
       "0.2       0.222697                   32        0.222704                   2  \n",
       "0.4       0.428382                   64        0.428395                   4  \n",
       "0.6       0.603849                  128        0.603857                   8  \n",
       "0.8       0.742089                  128        0.742103                   8  \n",
       "1.0       0.842697                  256        0.842703                   8  \n",
       "1.2       0.910309                  256        0.910313                   4  \n",
       "1.4       0.952281                  256        0.952281                   8  \n",
       "1.6       0.976334                  128        0.976337                   8  \n",
       "1.8       0.989080                  128        0.989090                  16  \n",
       "2.0       0.995316                  128        0.995321                  16  \n",
       "2.2       0.998133                  128        0.998136                  16  \n",
       "2.4       0.999303                   64        0.999300                   8  \n",
       "2.6       0.999749                   32        0.999756                   8  \n",
       "2.8       0.999919                   32        0.999921                   8  \n",
       "3.0       0.999969                   16        0.999976                   8  "
      ]
     },
     "execution_count": 13,
     "metadata": {},
     "output_type": "execute_result"
    }
   ],
   "source": [
    "a = 0\n",
    "b = 3\n",
    "number_of_steps = 15\n",
    "eps = 0.00001\n",
    "step = (b - a)/number_of_steps\n",
    "X = []\n",
    "for x in np.arange(a, b + step,step):   \n",
    "    X.append(round(x, 2))\n",
    "\n",
    "val_right = []\n",
    "n_right = []\n",
    "val_left = []\n",
    "n_left = []\n",
    "val_center = []\n",
    "n_center = []\n",
    "val_trapeze = []\n",
    "n_trapeze = []\n",
    "val_simpson = []\n",
    "n_simpson = []\n",
    "\n",
    "for x in X:\n",
    "    val, n = right(x, eps)\n",
    "    val_right.append(val)\n",
    "    n_right.append(n)\n",
    "    \n",
    "    val, n = left(x, eps)\n",
    "    val_left.append(val)\n",
    "    n_left.append(n)\n",
    "    \n",
    "    val, n = center(x, eps)\n",
    "    val_center.append(val)\n",
    "    n_center.append(n)\n",
    "    \n",
    "    val, n = trap(x, eps)\n",
    "    val_trapeze.append(val)\n",
    "    n_trapeze.append(n)\n",
    "    \n",
    "    val, n = simpson(x, eps)\n",
    "    val_simpson.append(val)\n",
    "    n_simpson.append(n)\n",
    "\n",
    "d = {'Знач.Прав.прямоуг':val_right, \"Кол-во разбиений пп\": n_right,\n",
    "      'Знач.Лев.прямоуг':val_left, \"Кол-во разбиений лп\": n_left,\n",
    "      'Знач.Центр.прямоуг':val_center, \"Кол-во разбиений цп\": n_center,\n",
    "      'Знач. Трапец.':val_trapeze, \"Кол-во разбиений тр\": n_trapeze,\n",
    "      'Знач. Симпсона':val_simpson, \"Кол-во разбиений с\": n_simpson}\n",
    "\n",
    "df = pd.DataFrame(d, index=X)\n",
    "df"
   ]
  },
  {
   "cell_type": "code",
   "execution_count": 14,
   "metadata": {},
   "outputs": [
    {
     "data": {
      "image/png": "[encoded data removed]",
      "text/plain": [
       "<Figure size 432x288 with 1 Axes>"
      ]
     },
     "metadata": {
      "needs_background": "light"
     },
     "output_type": "display_data"
    }
   ],
   "source": [
    "np.log2(df['Кол-во разбиений пп']).plot.line(color = 'green', legend = True)\n",
    "np.log2(df['Кол-во разбиений лп']).plot.line(color = 'red', legend = True)\n",
    "np.log2(df['Кол-во разбиений цп']).plot.line(color = 'blue', legend = True)\n",
    "np.log2(df['Кол-во разбиений тр']).plot.line(color = 'black', legend = True)\n",
    "np.log2(df['Кол-во разбиений с']).plot.line(color = 'purple', legend = True)\n",
    "plt.ylabel('Значения n')\n",
    "plt.xlabel('Значения x')\n",
    "plt.suptitle('e = '+str(eps))\n",
    "plt.grid(True)\n",
    "plt.show()"
   ]
  },
  {
   "cell_type": "code",
   "execution_count": null,
   "metadata": {},
   "outputs": [],
   "source": [
    "a = 0\n",
    "b = 3\n",
    "number_of_steps = 10\n",
    "eps = 0.0001\n",
    "step = (b - a)/number_of_steps\n",
    "X = []\n",
    "for x in np.arange(a, b + step,step):   \n",
    "    X.append(round(x, 2))\n",
    "\n",
    "val_right = []\n",
    "n_right = []\n",
    "val_left = []\n",
    "n_left = []\n",
    "val_center = []\n",
    "n_center = []\n",
    "val_trapeze = []\n",
    "n_trapeze = []\n",
    "val_simpson = []\n",
    "n_simpson = []\n",
    "\n",
    "for x in X:\n",
    "    val, n = right(x, eps)\n",
    "    val_right.append(val)\n",
    "    n_right.append(n)\n",
    "    \n",
    "    val, n = left(x, eps)\n",
    "    val_left.append(val)\n",
    "    n_left.append(n)\n",
    "    \n",
    "    val, n = center(x, eps)\n",
    "    val_center.append(val)\n",
    "    n_center.append(n)\n",
    "    \n",
    "    val, n = trap(x, eps)\n",
    "    val_trapeze.append(val)\n",
    "    n_trapeze.append(n)\n",
    "    \n",
    "    val, n = simpson(x, eps)\n",
    "    val_simpson.append(val)\n",
    "    n_simpson.append(n)\n",
    "\n",
    "d = {'val_right':val_right, \"n_right\": n_right,\n",
    "      'val_left':val_left, \"n_left\": n_left,\n",
    "      'val_center':val_center, \"n_center\": n_center,\n",
    "      'val_trapeze':val_trapeze, \"n_trapeze\": n_trapeze,\n",
    "      'val_simpson':val_simpson, \"n_simpson\": n_simpson}\n",
    "\n",
    "df = pd.DataFrame(d, index=X)\n",
    "\n",
    "df\n",
    "\n",
    "np.log2(df['n_right']).plot.line(color = 'green', legend = True)\n",
    "np.log2(df['n_left']).plot.line(color = 'red', legend = True)\n",
    "np.log2(df['n_center']).plot.line(color = 'blue', legend = True)\n",
    "np.log2(df['n_trapeze']).plot.line(color = 'black', legend = True)\n",
    "np.log2(df['n_simpson']).plot.line(color = 'purple', legend = True)\n",
    "plt.ylabel('Значения n')\n",
    "plt.xlabel('Значения x')\n",
    "plt.suptitle('e = '+str(eps))\n",
    "plt.grid(True)\n",
    "plt.show()"
   ]
  },
  {
   "cell_type": "code",
   "execution_count": null,
   "metadata": {},
   "outputs": [],
   "source": [
    "a = 0\n",
    "b = 3\n",
    "number_of_steps = 10\n",
    "eps = 0.00001\n",
    "step = (b - a)/number_of_steps\n",
    "X = []\n",
    "for x in np.arange(a, b + step,step):   \n",
    "    X.append(round(x, 2))\n",
    "\n",
    "val_right = []\n",
    "n_right = []\n",
    "val_left = []\n",
    "n_left = []\n",
    "val_center = []\n",
    "n_center = []\n",
    "val_trapeze = []\n",
    "n_trapeze = []\n",
    "val_simpson = []\n",
    "n_simpson = []\n",
    "\n",
    "for x in X:\n",
    "    val, n = right(x, eps)\n",
    "    val_right.append(val)\n",
    "    n_right.append(n)\n",
    "    \n",
    "    val, n = left(x, eps)\n",
    "    val_left.append(val)\n",
    "    n_left.append(n)\n",
    "    \n",
    "    val, n = center(x, eps)\n",
    "    val_center.append(val)\n",
    "    n_center.append(n)\n",
    "    \n",
    "    val, n = trap(x, eps)\n",
    "    val_trapeze.append(val)\n",
    "    n_trapeze.append(n)\n",
    "    \n",
    "    val, n = simpson(x, eps)\n",
    "    val_simpson.append(val)\n",
    "    n_simpson.append(n)\n",
    "\n",
    "d = {'val_right':val_right, \"n_right\": n_right,\n",
    "      'val_left':val_left, \"n_left\": n_left,\n",
    "      'val_center':val_center, \"n_center\": n_center,\n",
    "      'val_trapeze':val_trapeze, \"n_trapeze\": n_trapeze,\n",
    "      'val_simpson':val_simpson, \"n_simpson\": n_simpson}\n",
    "\n",
    "df = pd.DataFrame(d, index=X)\n",
    "\n",
    "df\n",
    "\n",
    "np.log2(df['n_right']).plot.line(color = 'green', legend = True)\n",
    "np.log2(df['n_left']).plot.line(color = 'red', legend = True)\n",
    "np.log2(df['n_center']).plot.line(color = 'blue', legend = True)\n",
    "np.log2(df['n_trapeze']).plot.line(color = 'black', legend = True)\n",
    "np.log2(df['n_simpson']).plot.line(color = 'purple', legend = True)\n",
    "plt.ylabel('Значения n')\n",
    "plt.xlabel('Значения x')\n",
    "plt.suptitle('e = '+str(eps))\n",
    "plt.grid(True)\n",
    "plt.show()"
   ]
  },
  {
   "cell_type": "markdown",
   "metadata": {},
   "source": [
    "Функция отображающая зависимость значения интеграла от x при разных eps"
   ]
  },
  {
   "cell_type": "code",
   "execution_count": null,
   "metadata": {},
   "outputs": [],
   "source": [
    "df['val_right'].plot.line(color = 'green', legend = True)\n",
    "df['val_left'].plot.line(color = 'red', legend = True)\n",
    "df['val_center'].plot.line(color = 'blue', legend = True)\n",
    "df['val_trapeze'].plot.line(color = 'black', legend = True)\n",
    "df['val_simpson'].plot.line(color = 'purple', legend = True)\n",
    "plt.ylabel('Значения интеграла')\n",
    "plt.xlabel('Значения x')\n",
    "plt.suptitle('e = '+str(eps))\n",
    "plt.grid(True)\n",
    "plt.show()"
   ]
  },
  {
   "cell_type": "code",
   "execution_count": null,
   "metadata": {
    "scrolled": false
   },
   "outputs": [],
   "source": [
    "df['val_right'].plot.line(color = 'green', legend = True)\n",
    "df['val_left'].plot.line(color = 'red', legend = True)\n",
    "df['val_center'].plot.line(color = 'blue', legend = True)\n",
    "df['val_trapeze'].plot.line(color = 'black', legend = True)\n",
    "df['val_simpson'].plot.line(color = 'purple', legend = True)\n",
    "plt.ylabel('Значения интеграла')\n",
    "plt.xlabel('Значения x')\n",
    "plt.suptitle('e = '+str(eps))\n",
    "plt.grid(True)\n",
    "plt.show()"
   ]
  },
  {
   "cell_type": "markdown",
   "metadata": {},
   "source": [
    "# 3.1 задание\n",
    "### Приближённое вычисление интегралов\n",
    "### Метод Гаусса"
   ]
  },
  {
   "cell_type": "code",
   "execution_count": 15,
   "metadata": {},
   "outputs": [],
   "source": [
    "i1 = (1 - 1 / np.sqrt(3)) / 2\n",
    "i2 = (1 + 1 / np.sqrt(3)) / 2\n",
    "\n",
    "def gauss(x, eps):\n",
    "    n = 1\n",
    "    s0 = 0\n",
    "    s1 = (fi(x * i1) + fi(x * i2)) / 2\n",
    "    while np.absolute(s1 - s0) >= eps:\n",
    "        n *= 2\n",
    "        s0 = s1\n",
    "        s1 = 0\n",
    "        z = 0\n",
    "        h = x / n\n",
    "        for i in range(n):\n",
    "            s1 += h * (fi(z + h * i1) + fi(z + h * i2)) / 2\n",
    "            z += h\n",
    "    return s0 * 2 / np.sqrt(np.pi), n"
   ]
  },
  {
   "cell_type": "code",
   "execution_count": 16,
   "metadata": {},
   "outputs": [
    {
     "name": "stdout",
     "output_type": "stream",
     "text": [
      "Значение интеграла и количество итераций:  (1.0059745042024912, 4)\n"
     ]
    }
   ],
   "source": [
    "print(\"Значение интеграла и количество итераций: \", gauss(3,0.01))"
   ]
  },
  {
   "cell_type": "code",
   "execution_count": 17,
   "metadata": {},
   "outputs": [],
   "source": [
    "val_gauss=[]\n",
    "n_gauss=[]\n",
    "eps = 0.00001\n",
    "for x in X:\n",
    "    val, n=gauss(x,eps)\n",
    "    val_gauss.append(val)\n",
    "    n_gauss.append(n)\n",
    "df1 = pd.DataFrame({'Знач. Гаусс':val_gauss, \"Кол-во разбиений г\": n_gauss}, index=X)\n",
    "df2 = pd.concat([df, df1], axis=1)"
   ]
  },
  {
   "cell_type": "code",
   "execution_count": 18,
   "metadata": {},
   "outputs": [
    {
     "data": {
      "text/html": [
       "<div>\n",
       "<style scoped>\n",
       "    .dataframe tbody tr th:only-of-type {\n",
       "        vertical-align: middle;\n",
       "    }\n",
       "\n",
       "    .dataframe tbody tr th {\n",
       "        vertical-align: top;\n",
       "    }\n",
       "\n",
       "    .dataframe thead th {\n",
       "        text-align: right;\n",
       "    }\n",
       "</style>\n",
       "<table border=\"1\" class=\"dataframe\">\n",
       "  <thead>\n",
       "    <tr style=\"text-align: right;\">\n",
       "      <th></th>\n",
       "      <th>Знач.Прав.прямоуг</th>\n",
       "      <th>Кол-во разбиений пп</th>\n",
       "      <th>Знач.Лев.прямоуг</th>\n",
       "      <th>Кол-во разбиений лп</th>\n",
       "      <th>Знач.Центр.прямоуг</th>\n",
       "      <th>Кол-во разбиений цп</th>\n",
       "      <th>Знач. Трапец.</th>\n",
       "      <th>Кол-во разбиений тр</th>\n",
       "      <th>Знач. Симпсона</th>\n",
       "      <th>Кол-во разбиений с</th>\n",
       "      <th>Знач. Гаусс</th>\n",
       "      <th>Кол-во разбиений г</th>\n",
       "    </tr>\n",
       "  </thead>\n",
       "  <tbody>\n",
       "    <tr>\n",
       "      <th>0.0</th>\n",
       "      <td>0.000000</td>\n",
       "      <td>1</td>\n",
       "      <td>0.000000</td>\n",
       "      <td>1</td>\n",
       "      <td>0.000000</td>\n",
       "      <td>1</td>\n",
       "      <td>0.000000</td>\n",
       "      <td>1</td>\n",
       "      <td>0.000000</td>\n",
       "      <td>1</td>\n",
       "      <td>0.000000</td>\n",
       "      <td>4</td>\n",
       "    </tr>\n",
       "    <tr>\n",
       "      <th>0.2</th>\n",
       "      <td>0.222685</td>\n",
       "      <td>512</td>\n",
       "      <td>0.222720</td>\n",
       "      <td>512</td>\n",
       "      <td>0.222714</td>\n",
       "      <td>16</td>\n",
       "      <td>0.222697</td>\n",
       "      <td>32</td>\n",
       "      <td>0.222704</td>\n",
       "      <td>2</td>\n",
       "      <td>0.222703</td>\n",
       "      <td>4</td>\n",
       "    </tr>\n",
       "    <tr>\n",
       "      <th>0.4</th>\n",
       "      <td>0.428376</td>\n",
       "      <td>4096</td>\n",
       "      <td>0.428409</td>\n",
       "      <td>4096</td>\n",
       "      <td>0.428397</td>\n",
       "      <td>64</td>\n",
       "      <td>0.428382</td>\n",
       "      <td>64</td>\n",
       "      <td>0.428395</td>\n",
       "      <td>4</td>\n",
       "      <td>0.428391</td>\n",
       "      <td>4</td>\n",
       "    </tr>\n",
       "    <tr>\n",
       "      <th>0.6</th>\n",
       "      <td>0.603844</td>\n",
       "      <td>16384</td>\n",
       "      <td>0.603869</td>\n",
       "      <td>16384</td>\n",
       "      <td>0.603870</td>\n",
       "      <td>64</td>\n",
       "      <td>0.603849</td>\n",
       "      <td>128</td>\n",
       "      <td>0.603857</td>\n",
       "      <td>8</td>\n",
       "      <td>0.603848</td>\n",
       "      <td>4</td>\n",
       "    </tr>\n",
       "    <tr>\n",
       "      <th>0.8</th>\n",
       "      <td>0.742088</td>\n",
       "      <td>32768</td>\n",
       "      <td>0.742114</td>\n",
       "      <td>32768</td>\n",
       "      <td>0.742107</td>\n",
       "      <td>128</td>\n",
       "      <td>0.742089</td>\n",
       "      <td>128</td>\n",
       "      <td>0.742103</td>\n",
       "      <td>8</td>\n",
       "      <td>0.742100</td>\n",
       "      <td>8</td>\n",
       "    </tr>\n",
       "    <tr>\n",
       "      <th>1.0</th>\n",
       "      <td>0.842679</td>\n",
       "      <td>32768</td>\n",
       "      <td>0.842723</td>\n",
       "      <td>32768</td>\n",
       "      <td>0.842709</td>\n",
       "      <td>128</td>\n",
       "      <td>0.842697</td>\n",
       "      <td>256</td>\n",
       "      <td>0.842703</td>\n",
       "      <td>8</td>\n",
       "      <td>0.842699</td>\n",
       "      <td>8</td>\n",
       "    </tr>\n",
       "    <tr>\n",
       "      <th>1.2</th>\n",
       "      <td>0.910298</td>\n",
       "      <td>65536</td>\n",
       "      <td>0.910330</td>\n",
       "      <td>65536</td>\n",
       "      <td>0.910323</td>\n",
       "      <td>128</td>\n",
       "      <td>0.910309</td>\n",
       "      <td>256</td>\n",
       "      <td>0.910313</td>\n",
       "      <td>4</td>\n",
       "      <td>0.910315</td>\n",
       "      <td>4</td>\n",
       "    </tr>\n",
       "    <tr>\n",
       "      <th>1.4</th>\n",
       "      <td>0.952264</td>\n",
       "      <td>65536</td>\n",
       "      <td>0.952306</td>\n",
       "      <td>65536</td>\n",
       "      <td>0.952294</td>\n",
       "      <td>128</td>\n",
       "      <td>0.952281</td>\n",
       "      <td>256</td>\n",
       "      <td>0.952281</td>\n",
       "      <td>8</td>\n",
       "      <td>0.952288</td>\n",
       "      <td>8</td>\n",
       "    </tr>\n",
       "    <tr>\n",
       "      <th>1.6</th>\n",
       "      <td>0.976336</td>\n",
       "      <td>131072</td>\n",
       "      <td>0.976361</td>\n",
       "      <td>131072</td>\n",
       "      <td>0.976356</td>\n",
       "      <td>128</td>\n",
       "      <td>0.976334</td>\n",
       "      <td>128</td>\n",
       "      <td>0.976337</td>\n",
       "      <td>8</td>\n",
       "      <td>0.976356</td>\n",
       "      <td>8</td>\n",
       "    </tr>\n",
       "    <tr>\n",
       "      <th>1.8</th>\n",
       "      <td>0.989076</td>\n",
       "      <td>131072</td>\n",
       "      <td>0.989105</td>\n",
       "      <td>131072</td>\n",
       "      <td>0.989096</td>\n",
       "      <td>128</td>\n",
       "      <td>0.989080</td>\n",
       "      <td>128</td>\n",
       "      <td>0.989090</td>\n",
       "      <td>16</td>\n",
       "      <td>0.989101</td>\n",
       "      <td>8</td>\n",
       "    </tr>\n",
       "    <tr>\n",
       "      <th>2.0</th>\n",
       "      <td>0.995305</td>\n",
       "      <td>131072</td>\n",
       "      <td>0.995339</td>\n",
       "      <td>131072</td>\n",
       "      <td>0.995336</td>\n",
       "      <td>64</td>\n",
       "      <td>0.995316</td>\n",
       "      <td>128</td>\n",
       "      <td>0.995321</td>\n",
       "      <td>16</td>\n",
       "      <td>0.995334</td>\n",
       "      <td>8</td>\n",
       "    </tr>\n",
       "    <tr>\n",
       "      <th>2.2</th>\n",
       "      <td>0.998118</td>\n",
       "      <td>131072</td>\n",
       "      <td>0.998156</td>\n",
       "      <td>131072</td>\n",
       "      <td>0.998145</td>\n",
       "      <td>64</td>\n",
       "      <td>0.998133</td>\n",
       "      <td>128</td>\n",
       "      <td>0.998136</td>\n",
       "      <td>16</td>\n",
       "      <td>0.998148</td>\n",
       "      <td>8</td>\n",
       "    </tr>\n",
       "    <tr>\n",
       "      <th>2.4</th>\n",
       "      <td>0.999291</td>\n",
       "      <td>131072</td>\n",
       "      <td>0.999332</td>\n",
       "      <td>131072</td>\n",
       "      <td>0.999315</td>\n",
       "      <td>64</td>\n",
       "      <td>0.999303</td>\n",
       "      <td>64</td>\n",
       "      <td>0.999300</td>\n",
       "      <td>8</td>\n",
       "      <td>0.999319</td>\n",
       "      <td>8</td>\n",
       "    </tr>\n",
       "    <tr>\n",
       "      <th>2.6</th>\n",
       "      <td>0.999742</td>\n",
       "      <td>131072</td>\n",
       "      <td>0.999786</td>\n",
       "      <td>131072</td>\n",
       "      <td>0.999771</td>\n",
       "      <td>32</td>\n",
       "      <td>0.999749</td>\n",
       "      <td>32</td>\n",
       "      <td>0.999756</td>\n",
       "      <td>8</td>\n",
       "      <td>0.999769</td>\n",
       "      <td>8</td>\n",
       "    </tr>\n",
       "    <tr>\n",
       "      <th>2.8</th>\n",
       "      <td>0.999913</td>\n",
       "      <td>262144</td>\n",
       "      <td>0.999937</td>\n",
       "      <td>262144</td>\n",
       "      <td>0.999937</td>\n",
       "      <td>16</td>\n",
       "      <td>0.999919</td>\n",
       "      <td>32</td>\n",
       "      <td>0.999921</td>\n",
       "      <td>8</td>\n",
       "      <td>0.999928</td>\n",
       "      <td>8</td>\n",
       "    </tr>\n",
       "    <tr>\n",
       "      <th>3.0</th>\n",
       "      <td>0.999965</td>\n",
       "      <td>262144</td>\n",
       "      <td>0.999991</td>\n",
       "      <td>262144</td>\n",
       "      <td>0.999990</td>\n",
       "      <td>8</td>\n",
       "      <td>0.999969</td>\n",
       "      <td>16</td>\n",
       "      <td>0.999976</td>\n",
       "      <td>8</td>\n",
       "      <td>0.999979</td>\n",
       "      <td>8</td>\n",
       "    </tr>\n",
       "  </tbody>\n",
       "</table>\n",
       "</div>"
      ],
      "text/plain": [
       "     Знач.Прав.прямоуг  Кол-во разбиений пп  Знач.Лев.прямоуг  \\\n",
       "0.0           0.000000                    1          0.000000   \n",
       "0.2           0.222685                  512          0.222720   \n",
       "0.4           0.428376                 4096          0.428409   \n",
       "0.6           0.603844                16384          0.603869   \n",
       "0.8           0.742088                32768          0.742114   \n",
       "1.0           0.842679                32768          0.842723   \n",
       "1.2           0.910298                65536          0.910330   \n",
       "1.4           0.952264                65536          0.952306   \n",
       "1.6           0.976336               131072          0.976361   \n",
       "1.8           0.989076               131072          0.989105   \n",
       "2.0           0.995305               131072          0.995339   \n",
       "2.2           0.998118               131072          0.998156   \n",
       "2.4           0.999291               131072          0.999332   \n",
       "2.6           0.999742               131072          0.999786   \n",
       "2.8           0.999913               262144          0.999937   \n",
       "3.0           0.999965               262144          0.999991   \n",
       "\n",
       "     Кол-во разбиений лп  Знач.Центр.прямоуг  Кол-во разбиений цп  \\\n",
       "0.0                    1            0.000000                    1   \n",
       "0.2                  512            0.222714                   16   \n",
       "0.4                 4096            0.428397                   64   \n",
       "0.6                16384            0.603870                   64   \n",
       "0.8                32768            0.742107                  128   \n",
       "1.0                32768            0.842709                  128   \n",
       "1.2                65536            0.910323                  128   \n",
       "1.4                65536            0.952294                  128   \n",
       "1.6               131072            0.976356                  128   \n",
       "1.8               131072            0.989096                  128   \n",
       "2.0               131072            0.995336                   64   \n",
       "2.2               131072            0.998145                   64   \n",
       "2.4               131072            0.999315                   64   \n",
       "2.6               131072            0.999771                   32   \n",
       "2.8               262144            0.999937                   16   \n",
       "3.0               262144            0.999990                    8   \n",
       "\n",
       "     Знач. Трапец.  Кол-во разбиений тр  Знач. Симпсона  Кол-во разбиений с  \\\n",
       "0.0       0.000000                    1        0.000000                   1   \n",
       "0.2       0.222697                   32        0.222704                   2   \n",
       "0.4       0.428382                   64        0.428395                   4   \n",
       "0.6       0.603849                  128        0.603857                   8   \n",
       "0.8       0.742089                  128        0.742103                   8   \n",
       "1.0       0.842697                  256        0.842703                   8   \n",
       "1.2       0.910309                  256        0.910313                   4   \n",
       "1.4       0.952281                  256        0.952281                   8   \n",
       "1.6       0.976334                  128        0.976337                   8   \n",
       "1.8       0.989080                  128        0.989090                  16   \n",
       "2.0       0.995316                  128        0.995321                  16   \n",
       "2.2       0.998133                  128        0.998136                  16   \n",
       "2.4       0.999303                   64        0.999300                   8   \n",
       "2.6       0.999749                   32        0.999756                   8   \n",
       "2.8       0.999919                   32        0.999921                   8   \n",
       "3.0       0.999969                   16        0.999976                   8   \n",
       "\n",
       "     Знач. Гаусс  Кол-во разбиений г  \n",
       "0.0     0.000000                   4  \n",
       "0.2     0.222703                   4  \n",
       "0.4     0.428391                   4  \n",
       "0.6     0.603848                   4  \n",
       "0.8     0.742100                   8  \n",
       "1.0     0.842699                   8  \n",
       "1.2     0.910315                   4  \n",
       "1.4     0.952288                   8  \n",
       "1.6     0.976356                   8  \n",
       "1.8     0.989101                   8  \n",
       "2.0     0.995334                   8  \n",
       "2.2     0.998148                   8  \n",
       "2.4     0.999319                   8  \n",
       "2.6     0.999769                   8  \n",
       "2.8     0.999928                   8  \n",
       "3.0     0.999979                   8  "
      ]
     },
     "execution_count": 18,
     "metadata": {},
     "output_type": "execute_result"
    }
   ],
   "source": [
    "df2.to_excel('i.xlsx')\n",
    "df2"
   ]
  },
  {
   "cell_type": "code",
   "execution_count": 19,
   "metadata": {},
   "outputs": [
    {
     "data": {
      "image/png": "[encoded data removed]",
      "text/plain": [
       "<Figure size 720x432 with 1 Axes>"
      ]
     },
     "metadata": {
      "needs_background": "light"
     },
     "output_type": "display_data"
    }
   ],
   "source": [
    "plt.figure(figsize=(10,6)) \n",
    "np.log2(df['Кол-во разбиений пп']).plot.line(color = 'green', legend = True)\n",
    "np.log2(df['Кол-во разбиений лп']).plot.line(color = 'red', legend = True)\n",
    "np.log2(df['Кол-во разбиений цп']).plot.line(color = 'blue', legend = True)\n",
    "np.log2(df['Кол-во разбиений тр']).plot.line(color = 'black', legend = True)\n",
    "np.log2(df['Кол-во разбиений с']).plot.line(color = 'purple', legend = True)\n",
    "np.log2(df2['Кол-во разбиений г']).plot.line(color = 'cyan', legend = True)\n",
    "plt.ylabel('Значения n')\n",
    "plt.xlabel('Значения x')\n",
    "plt.grid(True)\n",
    "plt.show()"
   ]
  },
  {
   "cell_type": "markdown",
   "metadata": {},
   "source": [
    "# 4 задание"
   ]
  },
  {
   "cell_type": "markdown",
   "metadata": {},
   "source": [
    "## Метод хорд"
   ]
  },
  {
   "cell_type": "code",
   "execution_count": 20,
   "metadata": {},
   "outputs": [],
   "source": [
    "from matplotlib import pyplot as plt\n",
    "import numpy as np\n",
    "import pandas as pd\n",
    "\n",
    "eps = 0.0001\n",
    "b = 2\n",
    "n= 20\n",
    "iter = []\n",
    "buf = simpson(b, eps)[0]\n",
    "F_list = []\n",
    "for i in range(0, n + 1):\n",
    "    F_list.append(i / n * buf)\n",
    "    iter.append(0)\n",
    "\n",
    "def F(z, i):\n",
    "    return simpson(z, eps)[0] - F_list[i]\n",
    "\n",
    "Xi_list = []\n",
    "for i in range(0, n + 1, 1):\n",
    "    Xi_list.append(i / n * 2)\n",
    "\n",
    "Z_list = [0]\n",
    "for i in range(1, n + 1):\n",
    "    Z0 = Xi_list[i - 1]\n",
    "    ZK = Xi_list[n - i]\n",
    "    while(abs(F(ZK, i)) > eps):\n",
    "        iter[i] += 1\n",
    "        ZK = (Z0 * F(ZK, i) - ZK * F(Z0, i)) / (F(ZK, i)-F(Z0, i))\n",
    "    Z_list.append(ZK)\n"
   ]
  },
  {
   "cell_type": "code",
   "execution_count": 32,
   "metadata": {
    "scrolled": true
   },
   "outputs": [
    {
     "name": "stdout",
     "output_type": "stream",
     "text": [
      "0.0 : 0\n",
      "0.04976521729751665 : 0.04413204498934549\n",
      "0.0995304345950333 : 0.08845025853928723\n",
      "0.14929565189254992 : 0.13308431181542718\n",
      "0.1990608691900666 : 0.17820551956238018\n",
      "0.24882608648758323 : 0.22423411672361987\n",
      "0.29859130378509985 : 0.27120740742691224\n",
      "0.3483565210826165 : 0.3191898381900194\n",
      "0.3981217383801332 : 0.3688987907217214\n",
      "0.4478869556776498 : 0.42036845215313595\n",
      "0.49765217297516645 : 0.47413942785379243\n",
      "0.5474173902726831 : 0.5312115149303839\n",
      "0.5971826075701997 : 0.5914375732854796\n",
      "0.6469478248677164 : 0.6565478888032991\n",
      "0.696713042165233 : 0.7277698315950443\n",
      "0.7464782594627497 : 0.8074678952711594\n",
      "0.7962434767602664 : 0.8987761863837421\n",
      "0.8460086940577829 : 1.007726564423383\n",
      "0.8957739113552996 : 1.148495516764287\n",
      "0.9455391286528162 : 1.3607294566443524\n",
      "0.9953043459503329 : 1.9970470534643563\n"
     ]
    }
   ],
   "source": [
    "for i in range(0, n + 1):\n",
    "    print( F_list[i], ':', Z_list[i])\n",
    "    \n",
    "dataset = {\"erf\":F_list,\"erf-1\":Z_list}\n",
    "df4 = pd.DataFrame(dataset)\n",
    "df4\n",
    "df4.to_excel('i.xlsx')"
   ]
  },
  {
   "cell_type": "code",
   "execution_count": 37,
   "metadata": {},
   "outputs": [
    {
     "data": {
      "image/png": "[encoded data removed]",
      "text/plain": [
       "<Figure size 432x288 with 1 Axes>"
      ]
     },
     "metadata": {
      "needs_background": "light"
     },
     "output_type": "display_data"
    }
   ],
   "source": [
    "plt.plot(F_list, Z_list, label = 'y = erf(x)', color = 'g')\n",
    "plt.plot(Z_list, F_list, label = 'y = erf^(-1)(x)', color = 'c')\n",
    "plt.grid(True)\n",
    "plt.legend()\n",
    "plt.show()"
   ]
  },
  {
   "cell_type": "markdown",
   "metadata": {},
   "source": [
    "## Метод секущих"
   ]
  },
  {
   "cell_type": "code",
   "execution_count": 44,
   "metadata": {
    "scrolled": true
   },
   "outputs": [
    {
     "name": "stdout",
     "output_type": "stream",
     "text": [
      "20\n",
      "0.0 : 0\n",
      "0.04976521729751665 : 0.04413149317416049\n",
      "0.0995304345950333 : 0.08843889991952346\n",
      "0.14929565189254992 : 0.13316676407179248\n",
      "0.1990608691900666 : 0.17828406753332404\n",
      "0.24882608648758323 : 0.22422236195082645\n",
      "0.29859130378509985 : 0.2711584752118504\n",
      "0.3483565210826165 : 0.319230746335342\n",
      "0.3981217383801332 : 0.3688653051376352\n",
      "0.4478869556776498 : 0.42035005366419304\n",
      "0.49765217297516645 : 0.4742380414303139\n",
      "0.5474173902726831 : 0.5311188109777578\n",
      "0.5971826075701997 : 0.5916254576648309\n",
      "0.6469478248677164 : 0.6566604046128256\n",
      "0.696713042165233 : 0.7279269119508893\n",
      "0.7464782594627497 : 0.8073444541189484\n",
      "0.7962434767602664 : 0.8984876223506236\n",
      "0.8460086940577829 : 1.0079733224466492\n",
      "0.8957739113552996 : 1.1491130345719558\n",
      "0.9455391286528162 : 1.360314923712115\n",
      "0.9953043459503329 : 2.0\n"
     ]
    },
    {
     "ename": "PermissionError",
     "evalue": "[Errno 13] Permission denied: 'i.xlsx'",
     "output_type": "error",
     "traceback": [
      "\u001b[1;31m---------------------------------------------------------------------------\u001b[0m",
      "\u001b[1;31mPermissionError\u001b[0m                           Traceback (most recent call last)",
      "\u001b[1;32m<ipython-input-44-9f63b3ff7255>\u001b[0m in \u001b[0;36m<module>\u001b[1;34m\u001b[0m\n\u001b[0;32m     32\u001b[0m \u001b[0mdf4\u001b[0m \u001b[1;33m=\u001b[0m \u001b[0mpd\u001b[0m\u001b[1;33m.\u001b[0m\u001b[0mDataFrame\u001b[0m\u001b[1;33m(\u001b[0m\u001b[0mdataset\u001b[0m\u001b[1;33m)\u001b[0m\u001b[1;33m\u001b[0m\u001b[1;33m\u001b[0m\u001b[0m\n\u001b[0;32m     33\u001b[0m \u001b[0mdf4\u001b[0m\u001b[1;33m\u001b[0m\u001b[1;33m\u001b[0m\u001b[0m\n\u001b[1;32m---> 34\u001b[1;33m \u001b[0mdf4\u001b[0m\u001b[1;33m.\u001b[0m\u001b[0mto_excel\u001b[0m\u001b[1;33m(\u001b[0m\u001b[1;34m'i.xlsx'\u001b[0m\u001b[1;33m)\u001b[0m\u001b[1;33m\u001b[0m\u001b[1;33m\u001b[0m\u001b[0m\n\u001b[0m\u001b[0;32m     35\u001b[0m \u001b[1;33m\u001b[0m\u001b[0m\n\u001b[0;32m     36\u001b[0m \u001b[0mplt\u001b[0m\u001b[1;33m.\u001b[0m\u001b[0mplot\u001b[0m\u001b[1;33m(\u001b[0m\u001b[0mF_list\u001b[0m\u001b[1;33m,\u001b[0m \u001b[0mZ_list\u001b[0m\u001b[1;33m,\u001b[0m \u001b[0mlabel\u001b[0m \u001b[1;33m=\u001b[0m \u001b[1;34m'y = erf(x)'\u001b[0m\u001b[1;33m,\u001b[0m \u001b[0mcolor\u001b[0m \u001b[1;33m=\u001b[0m \u001b[1;34m'g'\u001b[0m\u001b[1;33m)\u001b[0m\u001b[1;33m\u001b[0m\u001b[1;33m\u001b[0m\u001b[0m\n",
      "\u001b[1;32mC:\\ProgramData\\Anaconda3\\lib\\site-packages\\pandas\\core\\generic.py\u001b[0m in \u001b[0;36mto_excel\u001b[1;34m(self, excel_writer, sheet_name, na_rep, float_format, columns, header, index, index_label, startrow, startcol, engine, merge_cells, encoding, inf_rep, verbose, freeze_panes)\u001b[0m\n\u001b[0;32m   2125\u001b[0m         formatter.write(excel_writer, sheet_name=sheet_name, startrow=startrow,\n\u001b[0;32m   2126\u001b[0m                         \u001b[0mstartcol\u001b[0m\u001b[1;33m=\u001b[0m\u001b[0mstartcol\u001b[0m\u001b[1;33m,\u001b[0m \u001b[0mfreeze_panes\u001b[0m\u001b[1;33m=\u001b[0m\u001b[0mfreeze_panes\u001b[0m\u001b[1;33m,\u001b[0m\u001b[1;33m\u001b[0m\u001b[1;33m\u001b[0m\u001b[0m\n\u001b[1;32m-> 2127\u001b[1;33m                         engine=engine)\n\u001b[0m\u001b[0;32m   2128\u001b[0m \u001b[1;33m\u001b[0m\u001b[0m\n\u001b[0;32m   2129\u001b[0m     def to_json(self, path_or_buf=None, orient=None, date_format=None,\n",
      "\u001b[1;32mC:\\ProgramData\\Anaconda3\\lib\\site-packages\\pandas\\io\\formats\\excel.py\u001b[0m in \u001b[0;36mwrite\u001b[1;34m(self, writer, sheet_name, startrow, startcol, freeze_panes, engine)\u001b[0m\n\u001b[0;32m    662\u001b[0m                            freeze_panes=freeze_panes)\n\u001b[0;32m    663\u001b[0m         \u001b[1;32mif\u001b[0m \u001b[0mneed_save\u001b[0m\u001b[1;33m:\u001b[0m\u001b[1;33m\u001b[0m\u001b[1;33m\u001b[0m\u001b[0m\n\u001b[1;32m--> 664\u001b[1;33m             \u001b[0mwriter\u001b[0m\u001b[1;33m.\u001b[0m\u001b[0msave\u001b[0m\u001b[1;33m(\u001b[0m\u001b[1;33m)\u001b[0m\u001b[1;33m\u001b[0m\u001b[1;33m\u001b[0m\u001b[0m\n\u001b[0m",
      "\u001b[1;32mC:\\ProgramData\\Anaconda3\\lib\\site-packages\\pandas\\io\\excel.py\u001b[0m in \u001b[0;36msave\u001b[1;34m(self)\u001b[0m\n\u001b[0;32m   1950\u001b[0m         \"\"\"\n\u001b[0;32m   1951\u001b[0m \u001b[1;33m\u001b[0m\u001b[0m\n\u001b[1;32m-> 1952\u001b[1;33m         \u001b[1;32mreturn\u001b[0m \u001b[0mself\u001b[0m\u001b[1;33m.\u001b[0m\u001b[0mbook\u001b[0m\u001b[1;33m.\u001b[0m\u001b[0mclose\u001b[0m\u001b[1;33m(\u001b[0m\u001b[1;33m)\u001b[0m\u001b[1;33m\u001b[0m\u001b[1;33m\u001b[0m\u001b[0m\n\u001b[0m\u001b[0;32m   1953\u001b[0m \u001b[1;33m\u001b[0m\u001b[0m\n\u001b[0;32m   1954\u001b[0m     def write_cells(self, cells, sheet_name=None, startrow=0, startcol=0,\n",
      "\u001b[1;32mC:\\ProgramData\\Anaconda3\\lib\\site-packages\\xlsxwriter\\workbook.py\u001b[0m in \u001b[0;36mclose\u001b[1;34m(self)\u001b[0m\n\u001b[0;32m    302\u001b[0m         \u001b[1;32mif\u001b[0m \u001b[1;32mnot\u001b[0m \u001b[0mself\u001b[0m\u001b[1;33m.\u001b[0m\u001b[0mfileclosed\u001b[0m\u001b[1;33m:\u001b[0m\u001b[1;33m\u001b[0m\u001b[1;33m\u001b[0m\u001b[0m\n\u001b[0;32m    303\u001b[0m             \u001b[0mself\u001b[0m\u001b[1;33m.\u001b[0m\u001b[0mfileclosed\u001b[0m \u001b[1;33m=\u001b[0m \u001b[1;36m1\u001b[0m\u001b[1;33m\u001b[0m\u001b[1;33m\u001b[0m\u001b[0m\n\u001b[1;32m--> 304\u001b[1;33m             \u001b[0mself\u001b[0m\u001b[1;33m.\u001b[0m\u001b[0m_store_workbook\u001b[0m\u001b[1;33m(\u001b[0m\u001b[1;33m)\u001b[0m\u001b[1;33m\u001b[0m\u001b[1;33m\u001b[0m\u001b[0m\n\u001b[0m\u001b[0;32m    305\u001b[0m \u001b[1;33m\u001b[0m\u001b[0m\n\u001b[0;32m    306\u001b[0m     \u001b[1;32mdef\u001b[0m \u001b[0mset_size\u001b[0m\u001b[1;33m(\u001b[0m\u001b[0mself\u001b[0m\u001b[1;33m,\u001b[0m \u001b[0mwidth\u001b[0m\u001b[1;33m,\u001b[0m \u001b[0mheight\u001b[0m\u001b[1;33m)\u001b[0m\u001b[1;33m:\u001b[0m\u001b[1;33m\u001b[0m\u001b[1;33m\u001b[0m\u001b[0m\n",
      "\u001b[1;32mC:\\ProgramData\\Anaconda3\\lib\\site-packages\\xlsxwriter\\workbook.py\u001b[0m in \u001b[0;36m_store_workbook\u001b[1;34m(self)\u001b[0m\n\u001b[0;32m    650\u001b[0m \u001b[1;33m\u001b[0m\u001b[0m\n\u001b[0;32m    651\u001b[0m         xlsx_file = ZipFile(self.filename, \"w\", compression=ZIP_DEFLATED,\n\u001b[1;32m--> 652\u001b[1;33m                             allowZip64=self.allow_zip64)\n\u001b[0m\u001b[0;32m    653\u001b[0m \u001b[1;33m\u001b[0m\u001b[0m\n\u001b[0;32m    654\u001b[0m         \u001b[1;31m# Add XML sub-files to the Zip file with their Excel filename.\u001b[0m\u001b[1;33m\u001b[0m\u001b[1;33m\u001b[0m\u001b[1;33m\u001b[0m\u001b[0m\n",
      "\u001b[1;32mC:\\ProgramData\\Anaconda3\\lib\\zipfile.py\u001b[0m in \u001b[0;36m__init__\u001b[1;34m(self, file, mode, compression, allowZip64, compresslevel)\u001b[0m\n\u001b[0;32m   1202\u001b[0m             \u001b[1;32mwhile\u001b[0m \u001b[1;32mTrue\u001b[0m\u001b[1;33m:\u001b[0m\u001b[1;33m\u001b[0m\u001b[1;33m\u001b[0m\u001b[0m\n\u001b[0;32m   1203\u001b[0m                 \u001b[1;32mtry\u001b[0m\u001b[1;33m:\u001b[0m\u001b[1;33m\u001b[0m\u001b[1;33m\u001b[0m\u001b[0m\n\u001b[1;32m-> 1204\u001b[1;33m                     \u001b[0mself\u001b[0m\u001b[1;33m.\u001b[0m\u001b[0mfp\u001b[0m \u001b[1;33m=\u001b[0m \u001b[0mio\u001b[0m\u001b[1;33m.\u001b[0m\u001b[0mopen\u001b[0m\u001b[1;33m(\u001b[0m\u001b[0mfile\u001b[0m\u001b[1;33m,\u001b[0m \u001b[0mfilemode\u001b[0m\u001b[1;33m)\u001b[0m\u001b[1;33m\u001b[0m\u001b[1;33m\u001b[0m\u001b[0m\n\u001b[0m\u001b[0;32m   1205\u001b[0m                 \u001b[1;32mexcept\u001b[0m \u001b[0mOSError\u001b[0m\u001b[1;33m:\u001b[0m\u001b[1;33m\u001b[0m\u001b[1;33m\u001b[0m\u001b[0m\n\u001b[0;32m   1206\u001b[0m                     \u001b[1;32mif\u001b[0m \u001b[0mfilemode\u001b[0m \u001b[1;32min\u001b[0m \u001b[0mmodeDict\u001b[0m\u001b[1;33m:\u001b[0m\u001b[1;33m\u001b[0m\u001b[1;33m\u001b[0m\u001b[0m\n",
      "\u001b[1;31mPermissionError\u001b[0m: [Errno 13] Permission denied: 'i.xlsx'"
     ]
    }
   ],
   "source": [
    "eps = 0.0001\n",
    "b = 2\n",
    "n= 20\n",
    "buf = simpson(b, eps)[0]\n",
    "F_list = []\n",
    "for i in range(0,n+1):\n",
    "    F_list.append(i/n*buf)\n",
    "    \n",
    "def F(z, i):\n",
    "    return simpson(z, eps)[0] - F_list[i]\n",
    "\n",
    "Xi_list = []\n",
    "for i in range(n + 1):\n",
    "    Xi_list.append(i / n * 2)\n",
    "Fi_list = ERF(Xi_list, eps)\n",
    "\n",
    "Z_list = [0]\n",
    "for i in range(1, n+1):\n",
    "    Z1 = Xi_list[i-1]\n",
    "    Z2 = Xi_list[i]\n",
    "    while(abs(F(Z2, i)) > eps):\n",
    "        buf = Z2\n",
    "        Z2 = Z2 - (Z2 - Z1) *F (Z2, i) / (F(Z2, i) - F(Z1, i))\n",
    "        Z1 = buf\n",
    "    Z_list.append(Z2)\n",
    "\n",
    "print(n)\n",
    "for i in range(0, n + 1):\n",
    "    print( F_list[i], ':', Z_list[i])\n",
    "    \n",
    "dataset = {\"erf\":F_list,\"erf-1\":Z_list}\n",
    "df4 = pd.DataFrame(dataset)\n",
    "df4\n",
    "df4.to_excel('i.xlsx')\n",
    "\n",
    "plt.plot(F_list, Z_list, label = 'y = erf(x)', color = 'g')\n",
    "plt.plot(Z_list, F_list, label = 'y = erf^(-1)(x)', color = 'c')\n",
    "plt.grid(True)\n",
    "plt.legend()\n",
    "plt.show()"
   ]
  },
  {
   "cell_type": "code",
   "execution_count": 45,
   "metadata": {},
   "outputs": [
    {
     "data": {
      "image/png": "[encoded data removed]",
      "text/plain": [
       "<Figure size 432x288 with 1 Axes>"
      ]
     },
     "metadata": {
      "needs_background": "light"
     },
     "output_type": "display_data"
    }
   ],
   "source": [
    "plt.plot(F_list, Z_list, label = 'y = erf(x)', color = 'g')\n",
    "plt.plot(Z_list, F_list, label = 'y = erf^(-1)(x)', color = 'c')\n",
    "plt.grid(True)\n",
    "plt.legend()\n",
    "plt.show()"
   ]
  }
 ],
 "metadata": {
  "kernelspec": {
   "display_name": "Python 3",
   "language": "python",
   "name": "python3"
  },
  "language_info": {
   "codemirror_mode": {
    "name": "ipython",
    "version": 3
   },
   "file_extension": ".py",
   "mimetype": "text/x-python",
   "name": "python",
   "nbconvert_exporter": "python",
   "pygments_lexer": "ipython3",
   "version": "3.7.3"
  }
 },
 "nbformat": 4,
 "nbformat_minor": 2
}
